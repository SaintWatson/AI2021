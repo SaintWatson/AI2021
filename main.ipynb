{
  "nbformat": 4,
  "nbformat_minor": 0,
  "metadata": {
    "colab": {
      "name": "AI.ipynb",
      "provenance": [],
      "collapsed_sections": []
    },
    "kernelspec": {
      "name": "python3",
      "display_name": "Python 3"
    },
    "language_info": {
      "name": "python"
    },
    "accelerator": "GPU",
    "widgets": {
      "application/vnd.jupyter.widget-state+json": {
        "5bc38ee59a88437e8821553fc883eb35": {
          "model_module": "@jupyter-widgets/controls",
          "model_name": "HBoxModel",
          "state": {
            "_view_name": "HBoxView",
            "_dom_classes": [],
            "_model_name": "HBoxModel",
            "_view_module": "@jupyter-widgets/controls",
            "_model_module_version": "1.5.0",
            "_view_count": null,
            "_view_module_version": "1.5.0",
            "box_style": "",
            "layout": "IPY_MODEL_d7d24d98f3c448a28fed8dff5b3603ef",
            "_model_module": "@jupyter-widgets/controls",
            "children": [
              "IPY_MODEL_f1e2e891571a450b8f753dc3e2210374",
              "IPY_MODEL_0c29829469f74070b45f8dce8ffeadce"
            ]
          }
        },
        "d7d24d98f3c448a28fed8dff5b3603ef": {
          "model_module": "@jupyter-widgets/base",
          "model_name": "LayoutModel",
          "state": {
            "_view_name": "LayoutView",
            "grid_template_rows": null,
            "right": null,
            "justify_content": null,
            "_view_module": "@jupyter-widgets/base",
            "overflow": null,
            "_model_module_version": "1.2.0",
            "_view_count": null,
            "flex_flow": null,
            "width": null,
            "min_width": null,
            "border": null,
            "align_items": null,
            "bottom": null,
            "_model_module": "@jupyter-widgets/base",
            "top": null,
            "grid_column": null,
            "overflow_y": null,
            "overflow_x": null,
            "grid_auto_flow": null,
            "grid_area": null,
            "grid_template_columns": null,
            "flex": null,
            "_model_name": "LayoutModel",
            "justify_items": null,
            "grid_row": null,
            "max_height": null,
            "align_content": null,
            "visibility": null,
            "align_self": null,
            "height": null,
            "min_height": null,
            "padding": null,
            "grid_auto_rows": null,
            "grid_gap": null,
            "max_width": null,
            "order": null,
            "_view_module_version": "1.2.0",
            "grid_template_areas": null,
            "object_position": null,
            "object_fit": null,
            "grid_auto_columns": null,
            "margin": null,
            "display": null,
            "left": null
          }
        },
        "f1e2e891571a450b8f753dc3e2210374": {
          "model_module": "@jupyter-widgets/controls",
          "model_name": "HTMLModel",
          "state": {
            "_view_name": "HTMLView",
            "style": "IPY_MODEL_eb149d46430c4c148f43c76a333a8979",
            "_dom_classes": [],
            "description": "",
            "_model_name": "HTMLModel",
            "placeholder": "​",
            "_view_module": "@jupyter-widgets/controls",
            "_model_module_version": "1.5.0",
            "value": "100.0%",
            "_view_count": null,
            "_view_module_version": "1.5.0",
            "description_tooltip": null,
            "_model_module": "@jupyter-widgets/controls",
            "layout": "IPY_MODEL_695de71c27c340a789fb5f3cb668230c"
          }
        },
        "0c29829469f74070b45f8dce8ffeadce": {
          "model_module": "@jupyter-widgets/controls",
          "model_name": "FloatProgressModel",
          "state": {
            "_view_name": "ProgressView",
            "style": "IPY_MODEL_fde943850abc46ce9db348b0af62b933",
            "_dom_classes": [],
            "description": "",
            "_model_name": "FloatProgressModel",
            "bar_style": "success",
            "max": 100,
            "_view_module": "@jupyter-widgets/controls",
            "_model_module_version": "1.5.0",
            "value": 100,
            "_view_count": null,
            "_view_module_version": "1.5.0",
            "orientation": "horizontal",
            "min": 0,
            "description_tooltip": null,
            "_model_module": "@jupyter-widgets/controls",
            "layout": "IPY_MODEL_02ee40ffdd9742d6a6ca46c01809ccf8"
          }
        },
        "eb149d46430c4c148f43c76a333a8979": {
          "model_module": "@jupyter-widgets/controls",
          "model_name": "DescriptionStyleModel",
          "state": {
            "_view_name": "StyleView",
            "_model_name": "DescriptionStyleModel",
            "description_width": "",
            "_view_module": "@jupyter-widgets/base",
            "_model_module_version": "1.5.0",
            "_view_count": null,
            "_view_module_version": "1.2.0",
            "_model_module": "@jupyter-widgets/controls"
          }
        },
        "695de71c27c340a789fb5f3cb668230c": {
          "model_module": "@jupyter-widgets/base",
          "model_name": "LayoutModel",
          "state": {
            "_view_name": "LayoutView",
            "grid_template_rows": null,
            "right": null,
            "justify_content": null,
            "_view_module": "@jupyter-widgets/base",
            "overflow": null,
            "_model_module_version": "1.2.0",
            "_view_count": null,
            "flex_flow": null,
            "width": null,
            "min_width": null,
            "border": null,
            "align_items": null,
            "bottom": null,
            "_model_module": "@jupyter-widgets/base",
            "top": null,
            "grid_column": null,
            "overflow_y": null,
            "overflow_x": null,
            "grid_auto_flow": null,
            "grid_area": null,
            "grid_template_columns": null,
            "flex": null,
            "_model_name": "LayoutModel",
            "justify_items": null,
            "grid_row": null,
            "max_height": null,
            "align_content": null,
            "visibility": null,
            "align_self": null,
            "height": null,
            "min_height": null,
            "padding": null,
            "grid_auto_rows": null,
            "grid_gap": null,
            "max_width": null,
            "order": null,
            "_view_module_version": "1.2.0",
            "grid_template_areas": null,
            "object_position": null,
            "object_fit": null,
            "grid_auto_columns": null,
            "margin": null,
            "display": null,
            "left": null
          }
        },
        "fde943850abc46ce9db348b0af62b933": {
          "model_module": "@jupyter-widgets/controls",
          "model_name": "ProgressStyleModel",
          "state": {
            "_view_name": "StyleView",
            "_model_name": "ProgressStyleModel",
            "description_width": "",
            "_view_module": "@jupyter-widgets/base",
            "_model_module_version": "1.5.0",
            "_view_count": null,
            "_view_module_version": "1.2.0",
            "bar_color": null,
            "_model_module": "@jupyter-widgets/controls"
          }
        },
        "02ee40ffdd9742d6a6ca46c01809ccf8": {
          "model_module": "@jupyter-widgets/base",
          "model_name": "LayoutModel",
          "state": {
            "_view_name": "LayoutView",
            "grid_template_rows": null,
            "right": null,
            "justify_content": null,
            "_view_module": "@jupyter-widgets/base",
            "overflow": null,
            "_model_module_version": "1.2.0",
            "_view_count": null,
            "flex_flow": null,
            "width": null,
            "min_width": null,
            "border": null,
            "align_items": null,
            "bottom": null,
            "_model_module": "@jupyter-widgets/base",
            "top": null,
            "grid_column": null,
            "overflow_y": null,
            "overflow_x": null,
            "grid_auto_flow": null,
            "grid_area": null,
            "grid_template_columns": null,
            "flex": null,
            "_model_name": "LayoutModel",
            "justify_items": null,
            "grid_row": null,
            "max_height": null,
            "align_content": null,
            "visibility": null,
            "align_self": null,
            "height": null,
            "min_height": null,
            "padding": null,
            "grid_auto_rows": null,
            "grid_gap": null,
            "max_width": null,
            "order": null,
            "_view_module_version": "1.2.0",
            "grid_template_areas": null,
            "object_position": null,
            "object_fit": null,
            "grid_auto_columns": null,
            "margin": null,
            "display": null,
            "left": null
          }
        }
      }
    }
  },
  "cells": [
    {
      "cell_type": "markdown",
      "metadata": {
        "id": "QS-Unv97oGRD"
      },
      "source": [
        "# Building environment"
      ]
    },
    {
      "cell_type": "markdown",
      "metadata": {
        "id": "qQ0fCaK8oQlC"
      },
      "source": [
        "## Mount the drive"
      ]
    },
    {
      "cell_type": "code",
      "metadata": {
        "colab": {
          "base_uri": "https://localhost:8080/"
        },
        "id": "mPcQpedhmLm1",
        "outputId": "d109ea14-444b-405e-a40f-ef6cbd44d74f"
      },
      "source": [
        "!nvidia-smi\n",
        "from google.colab import drive\n",
        "drive.mount('/content/drive')"
      ],
      "execution_count": null,
      "outputs": [
        {
          "output_type": "stream",
          "text": [
            "Fri Jun 18 07:40:44 2021       \n",
            "+-----------------------------------------------------------------------------+\n",
            "| NVIDIA-SMI 465.27       Driver Version: 460.32.03    CUDA Version: 11.2     |\n",
            "|-------------------------------+----------------------+----------------------+\n",
            "| GPU  Name        Persistence-M| Bus-Id        Disp.A | Volatile Uncorr. ECC |\n",
            "| Fan  Temp  Perf  Pwr:Usage/Cap|         Memory-Usage | GPU-Util  Compute M. |\n",
            "|                               |                      |               MIG M. |\n",
            "|===============================+======================+======================|\n",
            "|   0  Tesla T4            Off  | 00000000:00:04.0 Off |                    0 |\n",
            "| N/A   52C    P8    10W /  70W |      0MiB / 15109MiB |      0%      Default |\n",
            "|                               |                      |                  N/A |\n",
            "+-------------------------------+----------------------+----------------------+\n",
            "                                                                               \n",
            "+-----------------------------------------------------------------------------+\n",
            "| Processes:                                                                  |\n",
            "|  GPU   GI   CI        PID   Type   Process name                  GPU Memory |\n",
            "|        ID   ID                                                   Usage      |\n",
            "|=============================================================================|\n",
            "|  No running processes found                                                 |\n",
            "+-----------------------------------------------------------------------------+\n",
            "Mounted at /content/drive\n"
          ],
          "name": "stdout"
        }
      ]
    },
    {
      "cell_type": "markdown",
      "metadata": {
        "id": "nyEnBPiNobqq"
      },
      "source": [
        "## Create the working directory"
      ]
    },
    {
      "cell_type": "code",
      "metadata": {
        "id": "xy2CivkVmTiK"
      },
      "source": [
        "import os\n",
        "WD = '/content/drive/MyDrive/WD'\n",
        "os.makedirs(WD, exist_ok=True)\n",
        "os.chdir(WD)"
      ],
      "execution_count": null,
      "outputs": []
    },
    {
      "cell_type": "markdown",
      "metadata": {
        "id": "JwSS805Rohgb"
      },
      "source": [
        "## Setting the kaggle.json"
      ]
    },
    {
      "cell_type": "code",
      "metadata": {
        "id": "fLiz-1uinycV"
      },
      "source": [
        "api_token = {\"username\":\"sandwich72\",\"key\":\"3dac69b70220026bbeb9ab40ad38e9dd\"}\n",
        "import json\n",
        "import zipfile\n",
        "import os\n",
        " \n",
        "if not os.path.exists(\"/root/.kaggle\"):\n",
        "    os.makedirs(\"/root/.kaggle\")\n",
        " \n",
        "with open('/root/.kaggle/kaggle.json', 'w') as file:\n",
        "    json.dump(api_token, file)\n",
        "!chmod 600 /root/.kaggle/kaggle.json"
      ],
      "execution_count": null,
      "outputs": []
    },
    {
      "cell_type": "markdown",
      "metadata": {
        "id": "bMnZuNYlooyh"
      },
      "source": [
        "## Download the dataset and unzip"
      ]
    },
    {
      "cell_type": "code",
      "metadata": {
        "id": "NfkPTvh7mnEa"
      },
      "source": [
        "# !kaggle datasets download -d paultimothymooney/chest-xray-pneumonia\n",
        "# !unzip chest-xray-pneumonia.zip \n",
        "# !mv chest_xray datasets\n",
        "# !rm chest-xray-pneumonia.zip\n",
        "# !mkdir checkpoint"
      ],
      "execution_count": null,
      "outputs": []
    },
    {
      "cell_type": "markdown",
      "metadata": {
        "id": "Er-GQH36pq9Z"
      },
      "source": [
        "# Import packages"
      ]
    },
    {
      "cell_type": "code",
      "metadata": {
        "id": "eaMtVQf-p0ey"
      },
      "source": [
        "!pip install -q qqdm\n",
        "import numpy as np\n",
        "import torch\n",
        "import torch.nn as nn\n",
        "from qqdm.notebook import qqdm"
      ],
      "execution_count": null,
      "outputs": []
    },
    {
      "cell_type": "markdown",
      "metadata": {
        "id": "fQLfRg5uqgIZ"
      },
      "source": [
        "# Loading dataset"
      ]
    },
    {
      "cell_type": "code",
      "metadata": {
        "id": "TuGMiEgbqgpY"
      },
      "source": [
        "from torch.utils.data import DataLoader, Subset, ConcatDataset\n",
        "from torchvision.datasets import ImageFolder\n",
        "import gc\n",
        "\n",
        "def prepare_dataloader():\n",
        "\n",
        "    first_data = ImageFolder('datasets/train', transform=TRAIN_TFM)\n",
        "    second_data = ImageFolder('datasets/val', transform=TEST_TFM)\n",
        "    third_data = ImageFolder('datasets/test', transform=TEST_TFM)\n",
        "\n",
        "    # Because first_dataset is far larger than the second one, \n",
        "    # we split some data from first one to it.\n",
        "    n_val = int(len(first_data) * VAL_RATIO)\n",
        "    idx = np.random.permutation(len(first_data))\n",
        "\n",
        "    train_data = Subset(first_data, idx[n_val:])\n",
        "    val_data = ConcatDataset([second_data, Subset(first_data, idx[:n_val])])\n",
        "    test_data = third_data\n",
        "\n",
        "    print(f'train data: {len(train_data)}')\n",
        "    print(f'valid data: {len(val_data)}')\n",
        "    print(f'test data: {len(test_data)}')\n",
        "\n",
        "    train_loader = DataLoader(train_data, batch_size=BATCH_SIZE, shuffle=True, num_workers=2)\n",
        "    val_loader = DataLoader(val_data, batch_size=BATCH_SIZE, shuffle=True, num_workers=2)\n",
        "    test_loader = DataLoader(test_data, batch_size=BATCH_SIZE, shuffle=False)\n",
        "\n",
        "    del first_data, second_data, third_data, train_data, val_data, test_data\n",
        "    gc.collect()\n",
        "\n",
        "    return train_loader, val_loader, test_loader"
      ],
      "execution_count": null,
      "outputs": []
    },
    {
      "cell_type": "markdown",
      "metadata": {
        "id": "Zwg6x0JmqqeZ"
      },
      "source": [
        "# Setup network"
      ]
    },
    {
      "cell_type": "code",
      "metadata": {
        "id": "GRocPYqFkr_n"
      },
      "source": [
        "from torchvision.models.resnet import resnet152\n",
        "class PneumoniaClassifier(nn.Module):\n",
        "  \n",
        "  def __init__(self):\n",
        "    super(PneumoniaClassifier, self).__init__()\n",
        "\n",
        "    self.resnet = resnet152(pretrained=True)\n",
        "    n_feats = self.resnet.fc.in_features\n",
        "    self.resnet.fc = nn.Sequential(\n",
        "        nn.Linear(n_feats, 2)\n",
        "    )\n",
        "\n",
        "  def forward(self, x):\n",
        "    return self.resnet(x)\n",
        "\n",
        "def get_n_params(model):\n",
        "    pp=0\n",
        "    for p in list(model.parameters()):\n",
        "        nn=1\n",
        "        for s in list(p.size()):\n",
        "            nn = nn*s\n",
        "        pp += nn\n",
        "    return pp"
      ],
      "execution_count": null,
      "outputs": []
    },
    {
      "cell_type": "code",
      "metadata": {
        "id": "Ef345jX8qqzh"
      },
      "source": [
        "from torch.optim import Adam, lr_scheduler\n",
        "\n",
        "def prepare_network(load=False):\n",
        "\n",
        "    model = PneumoniaClassifier()\n",
        "    if load:\n",
        "        model.load_state_dict(torch.load('checkpoint/model.pth'))\n",
        "\n",
        "    criterion = nn.CrossEntropyLoss()\n",
        "\n",
        "    optimizer = Adam(model.parameters(), lr=LEARNING_RATE, weight_decay=WEIGHT_DECAY)\n",
        "\n",
        "    scheduler = lr_scheduler.StepLR(optimizer, step_size=STEP_SIZE, gamma=GAMMA)\n",
        "\n",
        "    return model, criterion, optimizer, scheduler\n"
      ],
      "execution_count": null,
      "outputs": []
    },
    {
      "cell_type": "markdown",
      "metadata": {
        "id": "wxj02HaUrMU_"
      },
      "source": [
        "# Training & Validation"
      ]
    },
    {
      "cell_type": "code",
      "metadata": {
        "id": "i_nCR10irNOY"
      },
      "source": [
        "def train(model, criterion, optimizer, scheduler, dataloader, phase):\n",
        "\n",
        "    if phase == \"Train\":\n",
        "        model.train()\n",
        "    elif phase == \"Valid\":\n",
        "        model.eval()\n",
        "    else:\n",
        "        print(\"Not exist this mode\")\n",
        "        return\n",
        "\n",
        "    running_loss = 0.0\n",
        "    running_correct = 0\n",
        "    model.to(DEVICE)\n",
        "\n",
        "    for batch in qqdm(dataloader):\n",
        "\n",
        "        imgs, labels = batch\n",
        "        imgs = imgs.to(DEVICE)\n",
        "        labels = labels.to(DEVICE)\n",
        "\n",
        "        optimizer.zero_grad()\n",
        "        pred = model(imgs)\n",
        "        loss = criterion(pred, labels)\n",
        "\n",
        "        if phase == \"Train\":\n",
        "            loss.backward()\n",
        "            optimizer.step()\n",
        "            scheduler.step()\n",
        "\n",
        "        _, result = torch.max(pred, 1)\n",
        "        running_correct += torch.sum(result == labels.data)\n",
        "        running_loss += loss.item() * imgs.size(0)\n",
        "    \n",
        "    epoch_acc = running_correct / len(dataloader.dataset)\n",
        "    epoch_loss = running_loss / len(dataloader.dataset)\n",
        "\n",
        "    return epoch_loss, epoch_acc.item()"
      ],
      "execution_count": null,
      "outputs": []
    },
    {
      "cell_type": "markdown",
      "metadata": {
        "id": "o4QiNPiSqcey"
      },
      "source": [
        "# Hyperparameters"
      ]
    },
    {
      "cell_type": "code",
      "metadata": {
        "id": "eKwt-Pi4qSdA"
      },
      "source": [
        "from torch.cuda import is_available\n",
        "from torchvision import transforms\n",
        "\n",
        "IMG_SIZE = 224\n",
        "DEVICE = \"cuda\" if is_available()  else \"cpu\"\n",
        "\n",
        "BATCH_SIZE = 32\n",
        "N_EPOCH = 30\n",
        "LEARNING_RATE = 2e-4\n",
        "WEIGHT_DECAY = 1e-5\n",
        "VAL_RATIO = 0.1\n",
        "STEP_SIZE = 10\n",
        "GAMMA = 0.1\n",
        "\n",
        "TRAIN_TFM = transforms.Compose([\n",
        "    transforms.RandomHorizontalFlip(),\n",
        "    transforms.RandomResizedCrop(IMG_SIZE),\n",
        "    transforms.ToTensor(),\n",
        "    transforms.Normalize(mean=(0.5,0.5,0.5), std=(0.5,0.5,0.5), inplace=True)\n",
        "])\n",
        "\n",
        "TEST_TFM = transforms.Compose([\n",
        "    transforms.Resize((IMG_SIZE, IMG_SIZE)),\n",
        "    transforms.ToTensor(),\n",
        "])"
      ],
      "execution_count": null,
      "outputs": []
    },
    {
      "cell_type": "markdown",
      "metadata": {
        "id": "-qC0vzwprbqA"
      },
      "source": [
        "# Start Training"
      ]
    },
    {
      "cell_type": "code",
      "metadata": {
        "id": "4G85YS6bD2UF",
        "colab": {
          "base_uri": "https://localhost:8080/"
        },
        "outputId": "e363e858-bdb7-4021-91fc-30c6d1f4c9ce"
      },
      "source": [
        "train_loader, val_loader, test_loader = prepare_dataloader()\n",
        "model, criterion, optimizer, scheduler = prepare_network()\n",
        "\n",
        "\n",
        "train_loss_record = []\n",
        "train_acc_record = []\n",
        "valid_loss_record = []\n",
        "valid_acc_record = []"
      ],
      "execution_count": null,
      "outputs": [
        {
          "output_type": "stream",
          "text": [
            "train data: 4695\n",
            "valid data: 537\n",
            "test data: 624\n"
          ],
          "name": "stdout"
        }
      ]
    },
    {
      "cell_type": "code",
      "metadata": {
        "id": "rObIFNzfrbOC"
      },
      "source": [
        "for epoch in range(N_EPOCH):\n",
        "\n",
        "    loss, acc = train(model, criterion, optimizer, scheduler, train_loader, \"Train\")\n",
        "    train_loss_record.append(loss)\n",
        "    train_acc_record.append(acc)\n",
        "\n",
        "    print(f'Train: {epoch+1}/{N_EPOCH} | loss = {loss:.5f}, acc = {acc:.5f}')\n",
        "    torch.save(model.state_dict(), \"checkpoint/model.pth\")\n",
        "\n",
        "    loss, acc = train(model, criterion, optimizer, scheduler, val_loader, \"Valid\")\n",
        "    valid_loss_record.append(loss)\n",
        "    valid_acc_record.append(acc)\n",
        "    print(f'Valid: {epoch+1}/{N_EPOCH} | loss = {loss:.5f}, acc = {acc:.5f}')\n"
      ],
      "execution_count": null,
      "outputs": []
    },
    {
      "cell_type": "code",
      "metadata": {
        "colab": {
          "base_uri": "https://localhost:8080/",
          "height": 513
        },
        "id": "XIXFTiUz4LlO",
        "outputId": "dbdcfc11-b887-4b39-fe8d-2369f4108c31"
      },
      "source": [
        "import matplotlib.pyplot as plt\n",
        "epochs = [i for i in range(len(train_acc_record))]\n",
        "fig, ax = plt.subplots(1,2)\n",
        "fig.set_size_inches(15, 8)\n",
        "\n",
        "ax[0].plot(epochs , train_acc_record , 'go-' , label = 'Training Accuracy')\n",
        "ax[0].plot(epochs , valid_acc_record , 'ro-' , label = 'Validation Accuracy')\n",
        "ax[0].set_title('Accuracy')\n",
        "ax[0].legend()\n",
        "ax[0].set_xlabel(\"Epochs\")\n",
        "ax[0].set_ylabel(\"Accuracy\")\n",
        "\n",
        "ax[1].plot(epochs , train_loss_record , 'g-o' , label = 'Training Loss')\n",
        "ax[1].plot(epochs , valid_loss_record , 'r-o' , label = 'Validation Loss')\n",
        "ax[1].set_title('Loss')\n",
        "ax[1].legend()\n",
        "ax[1].set_xlabel(\"Epochs\")\n",
        "ax[1].set_ylabel(\"Loss\")\n",
        "plt.show()"
      ],
      "execution_count": null,
      "outputs": [
        {
          "output_type": "display_data",
          "data": {
            "image/png": "[encoded data removed]",
            "text/plain": [
              "<Figure size 1080x576 with 2 Axes>"
            ]
          },
          "metadata": {
            "tags": [],
            "needs_background": "light"
          }
        }
      ]
    },
    {
      "cell_type": "markdown",
      "metadata": {
        "id": "IQiRsiUy5TL1"
      },
      "source": [
        "# Testing"
      ]
    },
    {
      "cell_type": "code",
      "metadata": {
        "colab": {
          "base_uri": "https://localhost:8080/",
          "height": 99,
          "referenced_widgets": [
            "5bc38ee59a88437e8821553fc883eb35",
            "d7d24d98f3c448a28fed8dff5b3603ef",
            "f1e2e891571a450b8f753dc3e2210374",
            "0c29829469f74070b45f8dce8ffeadce",
            "eb149d46430c4c148f43c76a333a8979",
            "695de71c27c340a789fb5f3cb668230c",
            "fde943850abc46ce9db348b0af62b933",
            "02ee40ffdd9742d6a6ca46c01809ccf8"
          ]
        },
        "id": "SlgWRvCE5STW",
        "outputId": "ec20f726-43df-4044-a2ed-adecabe28f27"
      },
      "source": [
        "model = PneumoniaClassifier()\n",
        "model.load_state_dict(torch.load('checkpoint/model.pth'))\n",
        "\n",
        "loss, acc = train(model, criterion, optimizer, scheduler, test_loader, \"Valid\")\n",
        "print(f'Test: loss = {loss:.5f}, acc = {acc:.5f}')"
      ],
      "execution_count": null,
      "outputs": [
        {
          "output_type": "display_data",
          "data": {
            "application/vnd.google.colaboratory.intrinsic+json": {
              "type": "string"
            },
            "text/plain": [
              "\u001b[K\u001b[F \u001b[1mIters\u001b[0m    \u001b[1mElapsed Time\u001b[0m      \u001b[1mSpeed\u001b[0m                                               \n",
              " \u001b[99m20/\u001b[93m20\u001b[0m\u001b[0m  \u001b[99m00:00:14<\u001b[93m00:00:00\u001b[0m\u001b[0m  \u001b[99m1.39it/s\u001b[0m                                             "
            ]
          },
          "metadata": {
            "tags": []
          }
        },
        {
          "output_type": "display_data",
          "data": {
            "application/vnd.jupyter.widget-view+json": {
              "model_id": "5bc38ee59a88437e8821553fc883eb35",
              "version_minor": 0,
              "version_major": 2
            },
            "text/plain": [
              "IpythonBar(children=(HTML(value='  0.0%'), FloatProgress(value=0.0)))"
            ]
          },
          "metadata": {
            "tags": []
          }
        },
        {
          "output_type": "stream",
          "text": [
            "Test: loss = 0.72811, acc = 0.72276\n"
          ],
          "name": "stdout"
        }
      ]
    }
  ]
}